{
 "cells": [
  {
   "cell_type": "markdown",
   "id": "5d8892af-a695-4b8a-adaa-7f91cf8ba0ba",
   "metadata": {},
   "source": [
    "Name: Jignesh Tathe"
   ]
  },
  {
   "cell_type": "markdown",
   "id": "15f0dfb9-775c-46f8-b74b-65a64ceb966b",
   "metadata": {},
   "source": [
    "Branch: CO"
   ]
  },
  {
   "cell_type": "markdown",
   "id": "871aad73-1bb7-4a5a-a0b5-3588a54a4adb",
   "metadata": {},
   "source": [
    "Assignment_no.3"
   ]
  },
  {
   "cell_type": "markdown",
   "id": "84352516-4225-436c-9af5-5eeb2f182e14",
   "metadata": {},
   "source": [
    "# *numpy Functions*"
   ]
  },
  {
   "cell_type": "code",
   "execution_count": 13,
   "id": "5b4c5580-bade-4a05-93d6-2779e3b8a71e",
   "metadata": {},
   "outputs": [],
   "source": [
    "import numpy as jig\n",
    "arr=jig.array([1,2,3,4,5])"
   ]
  },
  {
   "cell_type": "code",
   "execution_count": 40,
   "id": "c39957b2-77af-41d1-8c79-5406d2ac2270",
   "metadata": {},
   "outputs": [
    {
     "name": "stdout",
     "output_type": "stream",
     "text": [
      "[1 2 3 4 5]\n"
     ]
    }
   ],
   "source": [
    "print(arr)"
   ]
  },
  {
   "cell_type": "markdown",
   "id": "741389ee-a2f3-49f9-b51a-dc46c95648b5",
   "metadata": {},
   "source": [
    "# 1. Sort"
   ]
  },
  {
   "cell_type": "code",
   "execution_count": 6,
   "id": "89348e15-bffd-4c9e-a2a1-4acf795d33cd",
   "metadata": {},
   "outputs": [],
   "source": [
    "new_arr= jig.array([12,3,1,4,5,6])"
   ]
  },
  {
   "cell_type": "code",
   "execution_count": 8,
   "id": "d40b4435-38cc-4b07-9421-8c70b6d11006",
   "metadata": {},
   "outputs": [
    {
     "data": {
      "text/plain": [
       "array([ 1,  3,  4,  5,  6, 12])"
      ]
     },
     "execution_count": 8,
     "metadata": {},
     "output_type": "execute_result"
    }
   ],
   "source": [
    "jig.sort(new_arr)"
   ]
  },
  {
   "cell_type": "code",
   "execution_count": 11,
   "id": "ddce4266-f3cb-44c6-903d-5b6ecef71099",
   "metadata": {},
   "outputs": [
    {
     "data": {
      "text/plain": [
       "array([False, False, False, False,  True,  True])"
      ]
     },
     "execution_count": 11,
     "metadata": {},
     "output_type": "execute_result"
    }
   ],
   "source": [
    "jig.sort(new_arr) > 5"
   ]
  },
  {
   "cell_type": "markdown",
   "id": "bc596297-7cd5-42d5-8d79-9e3513e07f5d",
   "metadata": {},
   "source": [
    "# 2. Clip"
   ]
  },
  {
   "cell_type": "code",
   "execution_count": 15,
   "id": "5970d547-7d6d-4c73-b050-8318478792f5",
   "metadata": {},
   "outputs": [
    {
     "data": {
      "text/plain": [
       "array([2, 2, 3, 4, 4])"
      ]
     },
     "execution_count": 15,
     "metadata": {},
     "output_type": "execute_result"
    }
   ],
   "source": [
    "jig.clip(arr, 2, 4)"
   ]
  },
  {
   "cell_type": "markdown",
   "id": "00649bc8-1493-4a50-ae77-e1844d900541",
   "metadata": {},
   "source": [
    "# 3. Round"
   ]
  },
  {
   "cell_type": "code",
   "execution_count": 19,
   "id": "580b97f9-7c77-4770-8298-a4dfed855ce9",
   "metadata": {},
   "outputs": [],
   "source": [
    "arr1=jig.array([1.223,2.367])"
   ]
  },
  {
   "cell_type": "code",
   "execution_count": 21,
   "id": "0828c9a9-4c8e-400d-af1f-6411025a1753",
   "metadata": {},
   "outputs": [
    {
     "data": {
      "text/plain": [
       "array([1.2, 2.4])"
      ]
     },
     "execution_count": 21,
     "metadata": {},
     "output_type": "execute_result"
    }
   ],
   "source": [
    "jig.round(arr1,1)"
   ]
  },
  {
   "cell_type": "markdown",
   "id": "668ed2d0-7d64-48f9-bd69-4487bff8cd26",
   "metadata": {},
   "source": [
    "# 4. Floor"
   ]
  },
  {
   "cell_type": "code",
   "execution_count": 24,
   "id": "3d8690a7-8557-4b9f-b502-e63662352291",
   "metadata": {},
   "outputs": [],
   "source": [
    "arr2=jig.array([1.2, 2.8, 4.5, 3.1, 67.9, 89.3, 10.7])"
   ]
  },
  {
   "cell_type": "code",
   "execution_count": 42,
   "id": "eaa19ba7-e112-494b-a0b7-b06852917edb",
   "metadata": {},
   "outputs": [
    {
     "data": {
      "text/plain": [
       "array([ 1.,  2.,  4.,  3., 67., 89., 10.])"
      ]
     },
     "execution_count": 42,
     "metadata": {},
     "output_type": "execute_result"
    }
   ],
   "source": [
    "jig.floor(arr2)"
   ]
  },
  {
   "cell_type": "markdown",
   "id": "979e8842-5cd1-443e-83cb-661cda6a2c6e",
   "metadata": {},
   "source": [
    "# 5. ceil"
   ]
  },
  {
   "cell_type": "code",
   "execution_count": 26,
   "id": "ef7dfa4a-9050-49d0-834a-cbe8b8498e22",
   "metadata": {},
   "outputs": [
    {
     "data": {
      "text/plain": [
       "array([ 1.2,  2.8,  4.5,  3.1, 67.9, 89.3, 10.7])"
      ]
     },
     "execution_count": 26,
     "metadata": {},
     "output_type": "execute_result"
    }
   ],
   "source": [
    "arr2"
   ]
  },
  {
   "cell_type": "code",
   "execution_count": 29,
   "id": "16f6d0bf-38ea-441d-b471-fc062fc57e42",
   "metadata": {},
   "outputs": [
    {
     "data": {
      "text/plain": [
       "array([ 2.,  3.,  5.,  4., 68., 90., 11.])"
      ]
     },
     "execution_count": 29,
     "metadata": {},
     "output_type": "execute_result"
    }
   ],
   "source": [
    "jig.ceil(arr2)"
   ]
  },
  {
   "cell_type": "markdown",
   "id": "a0256716-6ed3-4308-8e57-6712151b6cea",
   "metadata": {},
   "source": [
    "# 6. intersect"
   ]
  },
  {
   "cell_type": "code",
   "execution_count": 32,
   "id": "367a3d1e-31c1-4dc8-a043-91701ea92629",
   "metadata": {},
   "outputs": [
    {
     "data": {
      "text/plain": [
       "array([3])"
      ]
     },
     "execution_count": 32,
     "metadata": {},
     "output_type": "execute_result"
    }
   ],
   "source": [
    "a = jig.array([1, 2, 3])\n",
    "b = jig.array([3, 4, 5])\n",
    "\n",
    "jig.intersect1d(a, b)    # [3]"
   ]
  },
  {
   "cell_type": "markdown",
   "id": "f01c3008-f9e4-4310-bf1b-769af0112fb4",
   "metadata": {},
   "source": [
    "# 7. union"
   ]
  },
  {
   "cell_type": "code",
   "execution_count": 33,
   "id": "68ea8127-b20c-4f44-9d11-57e61bfc9aac",
   "metadata": {},
   "outputs": [
    {
     "data": {
      "text/plain": [
       "array([1, 2, 3, 4, 5])"
      ]
     },
     "execution_count": 33,
     "metadata": {},
     "output_type": "execute_result"
    }
   ],
   "source": [
    "jig.union1d(a, b)        "
   ]
  },
  {
   "cell_type": "markdown",
   "id": "a80f5fc6-4d00-4446-b534-88550fd5e9dd",
   "metadata": {},
   "source": [
    "# 8. set difference"
   ]
  },
  {
   "cell_type": "code",
   "execution_count": 34,
   "id": "1b09306e-3540-477c-b9ef-8d395cc2d237",
   "metadata": {},
   "outputs": [
    {
     "data": {
      "text/plain": [
       "array([1, 2])"
      ]
     },
     "execution_count": 34,
     "metadata": {},
     "output_type": "execute_result"
    }
   ],
   "source": [
    "jig.setdiff1d(a, b)"
   ]
  },
  {
   "cell_type": "markdown",
   "id": "bd59a960-b924-4d67-93e7-ca0ca19661fb",
   "metadata": {},
   "source": [
    "# 9. Sum"
   ]
  },
  {
   "cell_type": "code",
   "execution_count": 35,
   "id": "03ec52e2-3540-47ef-b4c1-e88306de2a60",
   "metadata": {},
   "outputs": [],
   "source": [
    "arr3=jig.array([10,20,30,40,50])"
   ]
  },
  {
   "cell_type": "code",
   "execution_count": 36,
   "id": "c189a2e9-5c10-44ae-89c9-884cc5ea085c",
   "metadata": {},
   "outputs": [
    {
     "data": {
      "text/plain": [
       "np.int64(150)"
      ]
     },
     "execution_count": 36,
     "metadata": {},
     "output_type": "execute_result"
    }
   ],
   "source": [
    "jig.sum(arr3)"
   ]
  },
  {
   "cell_type": "markdown",
   "id": "8f6c4d28-4e4f-46ae-b4af-761eb01c2e4d",
   "metadata": {},
   "source": [
    "# 10. Product"
   ]
  },
  {
   "cell_type": "code",
   "execution_count": 37,
   "id": "c17e400f-8343-4117-a79a-d6349ba7248a",
   "metadata": {},
   "outputs": [],
   "source": [
    "arr4= jig.array([5,4,3,2,1])"
   ]
  },
  {
   "cell_type": "code",
   "execution_count": 39,
   "id": "24184f77-b3b6-497c-8b6b-205109ed120e",
   "metadata": {},
   "outputs": [
    {
     "data": {
      "text/plain": [
       "np.int64(120)"
      ]
     },
     "execution_count": 39,
     "metadata": {},
     "output_type": "execute_result"
    }
   ],
   "source": [
    "jig.prod(arr4)"
   ]
  }
 ],
 "metadata": {
  "kernelspec": {
   "display_name": "Python 3 (ipykernel)",
   "language": "python",
   "name": "python3"
  },
  "language_info": {
   "codemirror_mode": {
    "name": "ipython",
    "version": 3
   },
   "file_extension": ".py",
   "mimetype": "text/x-python",
   "name": "python",
   "nbconvert_exporter": "python",
   "pygments_lexer": "ipython3",
   "version": "3.13.5"
  }
 },
 "nbformat": 4,
 "nbformat_minor": 5
}
